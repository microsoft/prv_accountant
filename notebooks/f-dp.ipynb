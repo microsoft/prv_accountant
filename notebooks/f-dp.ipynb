{
 "cells": [
  {
   "cell_type": "code",
   "execution_count": null,
   "metadata": {},
   "outputs": [],
   "source": [
    "import numpy as np\n",
    "import pandas as pd\n",
    "\n",
    "from prv_accountant import PoissonSubsampledGaussianMechanism, PRVAccountant\n",
    "from prv_accountant.dpsgd import find_noise_multiplier\n",
    "from matplotlib import pyplot as plt"
   ]
  },
  {
   "cell_type": "code",
   "execution_count": null,
   "metadata": {},
   "outputs": [],
   "source": [
    "epsilon = 4.0\n",
    "delta = 1e-8\n",
    "fnrs = np.linspace(0,1,100)"
   ]
  },
  {
   "cell_type": "code",
   "execution_count": null,
   "metadata": {},
   "outputs": [],
   "source": [
    "def privacy_boundary_lo(fnr: float, eps: float, delta: float) -> float:\n",
    "    return np.maximum(0, np.maximum(1 - delta - fnr * np.exp(eps),\n",
    "                                    (1 - delta - fnr) * np.exp(-eps)))"
   ]
  },
  {
   "cell_type": "code",
   "execution_count": null,
   "metadata": {},
   "outputs": [],
   "source": [
    "def compute_fprs(fnrs: np.ndarray, batch_size: int, dataset_size: int, epochs: int, target_epsilon: float, target_delta: float):\n",
    "    p = batch_size/dataset_size\n",
    "    num_steps = epochs * dataset_size//batch_size\n",
    "    eps_error = 0.1\n",
    "    delta_error = target_delta*1e-3\n",
    "    noise_multiplier = find_noise_multiplier(sampling_probability=p, num_steps=num_steps, target_delta=target_delta, target_epsilon=target_epsilon, eps_error=eps_error)\n",
    "    prv = PoissonSubsampledGaussianMechanism(sampling_probability=p, noise_multiplier=noise_multiplier)\n",
    "    acc = PRVAccountant(prvs=prv, eps_error=eps_error, delta_error=delta_error, max_self_compositions=num_steps)\n",
    "    f_n = acc.compute_composition(num_steps)\n",
    "    if abs(f_n.compute_epsilon(target_delta, delta_error=delta_error, epsilon_error=eps_error)[1] - target_epsilon) > eps_error:\n",
    "        raise ValueError(f\"Computed epsilon is not close to target epsilon. Computed: {f_n.compute_epsilon(target_delta)} Target: {target_epsilon}\")\n",
    "    x, y = f_n.compute_f_estimates()\n",
    "    return np.interp(fnrs, x.astype(np.float64), y.astype(np.float64))"
   ]
  },
  {
   "cell_type": "code",
   "execution_count": null,
   "metadata": {},
   "outputs": [],
   "source": [
    "fprs = {}"
   ]
  },
  {
   "cell_type": "code",
   "execution_count": null,
   "metadata": {},
   "outputs": [],
   "source": [
    "fprs[\"bs=500\"] = compute_fprs(fnrs, batch_size=500, dataset_size=1_000_000, epochs=10, target_epsilon=epsilon, target_delta=delta)"
   ]
  },
  {
   "cell_type": "code",
   "execution_count": null,
   "metadata": {},
   "outputs": [],
   "source": [
    "fprs[\"bs=1k\"] = compute_fprs(fnrs, batch_size=1_000, dataset_size=1_000_000, epochs=10, target_epsilon=epsilon, target_delta=delta)"
   ]
  },
  {
   "cell_type": "code",
   "execution_count": null,
   "metadata": {},
   "outputs": [],
   "source": [
    "fprs[\"bs=2k\"] = compute_fprs(fnrs, batch_size=2_000, dataset_size=1_000_000, epochs=10, target_epsilon=epsilon, target_delta=delta)"
   ]
  },
  {
   "cell_type": "code",
   "execution_count": null,
   "metadata": {},
   "outputs": [],
   "source": [
    "fig, ax = plt.subplots()\n",
    "ax.plot(fnrs, fprs[\"bs=500\"], label=\"bs=500\")\n",
    "ax.plot(fnrs, fprs[\"bs=1k\"], label=\"bs=1k\")\n",
    "ax.plot(fnrs, fprs[\"bs=2k\"], label=\"bs=2k\")\n",
    "ax.plot(fnrs, privacy_boundary_lo(fnrs, epsilon, delta), label=f\"({epsilon},{delta})-DP\")\n",
    "ax.set_xlabel('FNR')\n",
    "ax.set_ylabel('FPR')\n",
    "ax.set_aspect('equal')\n",
    "ax.legend()"
   ]
  },
  {
   "cell_type": "code",
   "execution_count": null,
   "metadata": {},
   "outputs": [],
   "source": [
    "pd.DataFrame(data={\n",
    "    \"fnr\": fnrs,\n",
    "    \"fpr_bs_500\": fprs[\"bs=500\"],\n",
    "    \"fpr_bs_1000\": fprs[\"bs=1k\"],\n",
    "    \"fpr_bs_2000\": fprs[\"bs=2k\"],\n",
    "    \"fpr_dp\": privacy_boundary_lo(fnrs, epsilon, delta)\n",
    "}).to_csv(\"batch_size.tsv\", sep=\"\\t\", index=False)"
   ]
  },
  {
   "cell_type": "code",
   "execution_count": null,
   "metadata": {},
   "outputs": [],
   "source": [
    "fprs[\"e=5\"] = compute_fprs(fnrs, batch_size=1_000, dataset_size=1_000_000, epochs=5, target_epsilon=epsilon, target_delta=delta)"
   ]
  },
  {
   "cell_type": "code",
   "execution_count": null,
   "metadata": {},
   "outputs": [],
   "source": [
    "fprs[\"e=10\"] = compute_fprs(fnrs, batch_size=1_000, dataset_size=1_000_000, epochs=10, target_epsilon=epsilon, target_delta=delta)"
   ]
  },
  {
   "cell_type": "code",
   "execution_count": null,
   "metadata": {},
   "outputs": [],
   "source": [
    "fprs[\"e=20\"] = compute_fprs(fnrs, batch_size=1_000, dataset_size=1_000_000, epochs=20, target_epsilon=epsilon, target_delta=delta)"
   ]
  },
  {
   "cell_type": "code",
   "execution_count": null,
   "metadata": {},
   "outputs": [],
   "source": [
    "fig, ax = plt.subplots()\n",
    "ax.plot(fnrs, fprs[\"e=5\"], label=\"e=5\")\n",
    "ax.plot(fnrs, fprs[\"e=10\"], label=\"e=10\")\n",
    "ax.plot(fnrs, fprs[\"e=20\"], label=\"e=20\")\n",
    "ax.plot(fnrs, privacy_boundary_lo(fnrs, epsilon, delta), label=f\"({epsilon},{delta})-DP\")\n",
    "ax.set_xlabel('FNR')\n",
    "ax.set_ylabel('FPR')\n",
    "ax.set_aspect('equal')\n",
    "ax.legend()"
   ]
  },
  {
   "cell_type": "code",
   "execution_count": null,
   "metadata": {},
   "outputs": [],
   "source": [
    "pd.DataFrame(data={\n",
    "    \"fnr\": fnrs,\n",
    "    \"fpr_e_5\": fprs[\"e=5\"],\n",
    "    \"fpr_e_10\": fprs[\"e=10\"],\n",
    "    \"fpr_e_20\": fprs[\"e=20\"],\n",
    "    \"fpr_dp\": privacy_boundary_lo(fnrs, epsilon, delta)\n",
    "}).to_csv(\"epochs.tsv\", sep=\"\\t\", index=False)"
   ]
  },
  {
   "cell_type": "code",
   "execution_count": null,
   "metadata": {},
   "outputs": [],
   "source": []
  }
 ],
 "metadata": {
  "kernelspec": {
   "display_name": "Python 3.8.13 ('prv_accountant')",
   "language": "python",
   "name": "python3"
  },
  "language_info": {
   "codemirror_mode": {
    "name": "ipython",
    "version": 3
   },
   "file_extension": ".py",
   "mimetype": "text/x-python",
   "name": "python",
   "nbconvert_exporter": "python",
   "pygments_lexer": "ipython3",
   "version": "3.8.13"
  },
  "orig_nbformat": 4,
  "vscode": {
   "interpreter": {
    "hash": "143d15a0240b78374eb199ca30e249644ee159be85dbdc843e37d5f4c1ca1471"
   }
  }
 },
 "nbformat": 4,
 "nbformat_minor": 2
}
