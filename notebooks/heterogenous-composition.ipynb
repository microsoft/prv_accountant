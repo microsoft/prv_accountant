{
 "cells": [
  {
   "cell_type": "code",
   "execution_count": null,
   "metadata": {},
   "outputs": [],
   "source": [
    "from prv_accountant import PRVAccountantHeterogenous, privacy_random_variables"
   ]
  },
  {
   "cell_type": "code",
   "execution_count": null,
   "metadata": {},
   "outputs": [],
   "source": [
    "PRVAccountantHeterogenous(\n",
    "    prvs=(\n",
    "        privacy_random_variables.PoissonSubsampledGaussianMechanism(1e-2, 0.8),\n",
    "        privacy_random_variables.PoissonSubsampledGaussianMechanism(1e-2, 0.8),\n",
    "        privacy_random_variables.PoissonSubsampledGaussianMechanism(1e-2, 0.8),\n",
    "        privacy_random_variables.PoissonSubsampledGaussianMechanism(1e-3, 0.4),\n",
    "        privacy_random_variables.PoissonSubsampledGaussianMechanism(1e-3, 0.4)\n",
    "    ),\n",
    "    eps_error=0.1,\n",
    "    delta=1e-6\n",
    ").compute_epsilon()"
   ]
  },
  {
   "cell_type": "code",
   "execution_count": null,
   "metadata": {},
   "outputs": [],
   "source": [
    "\n",
    "PRVAccountantHeterogenous(\n",
    "    prvs=(\n",
    "        (privacy_random_variables.PoissonSubsampledGaussianMechanism(1e-2, 0.8), 3),\n",
    "        (privacy_random_variables.PoissonSubsampledGaussianMechanism(1e-3, 0.4), 2)\n",
    "    ),\n",
    "    eps_error=0.1,\n",
    "    delta=1e-6\n",
    ").compute_epsilon()"
   ]
  },
  {
   "cell_type": "code",
   "execution_count": null,
   "metadata": {},
   "outputs": [],
   "source": []
  }
 ],
 "metadata": {
  "interpreter": {
   "hash": "ba40320e8ee13f35e036b170c68b5dd972f5ed18af4d576d50b5090248a5b0da"
  },
  "kernelspec": {
   "display_name": "Python 3.8.12 64-bit ('prv_accountant': conda)",
   "name": "python3"
  },
  "language_info": {
   "codemirror_mode": {
    "name": "ipython",
    "version": 3
   },
   "file_extension": ".py",
   "mimetype": "text/x-python",
   "name": "python",
   "nbconvert_exporter": "python",
   "pygments_lexer": "ipython3",
   "version": "3.8.12"
  }
 },
 "nbformat": 4,
 "nbformat_minor": 2
}
