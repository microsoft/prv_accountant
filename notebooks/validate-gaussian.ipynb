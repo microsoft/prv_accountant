{
 "cells": [
  {
   "cell_type": "code",
   "execution_count": null,
   "metadata": {
    "execution": {
     "iopub.execute_input": "2021-06-11T17:58:14.524769Z",
     "iopub.status.busy": "2021-06-11T17:58:14.523601Z",
     "iopub.status.idle": "2021-06-11T17:58:14.924890Z",
     "shell.execute_reply": "2021-06-11T17:58:14.923872Z"
    }
   },
   "outputs": [],
   "source": [
    "from plotly import graph_objects as go\n",
    "from prv_accountant import PRVAccountant, PoissonSubsampledGaussianMechanism\n",
    "from scipy import stats\n",
    "import numpy as np\n",
    "import pandas as pd"
   ]
  },
  {
   "cell_type": "code",
   "execution_count": null,
   "metadata": {
    "execution": {
     "iopub.execute_input": "2021-06-18T16:35:14.701793Z",
     "iopub.status.busy": "2021-06-18T16:35:14.700812Z",
     "iopub.status.idle": "2021-06-18T16:35:14.702823Z",
     "shell.execute_reply": "2021-06-18T16:35:14.703607Z"
    }
   },
   "outputs": [],
   "source": [
    "max_compositions = 10000\n",
    "noise_multiplier = 100.0\n",
    "sampling_probability = 1.0"
   ]
  },
  {
   "cell_type": "code",
   "execution_count": null,
   "metadata": {
    "execution": {
     "iopub.execute_input": "2021-06-18T16:35:14.709004Z",
     "iopub.status.busy": "2021-06-18T16:35:14.707998Z",
     "iopub.status.idle": "2021-06-18T16:35:14.853537Z",
     "shell.execute_reply": "2021-06-18T16:35:14.854337Z"
    }
   },
   "outputs": [],
   "source": [
    "prv = PoissonSubsampledGaussianMechanism(sampling_probability=sampling_probability, noise_multiplier=noise_multiplier)\n",
    "acc_1  = PRVAccountant(prvs=prv, max_self_compositions=max_compositions, eps_error=1.0, delta_error=1e-10)\n",
    "acc_05 = PRVAccountant(prvs=prv, max_self_compositions=max_compositions, eps_error=0.5, delta_error=1e-10)\n",
    "acc_01 = PRVAccountant(prvs=prv, max_self_compositions=max_compositions, eps_error=0.1, delta_error=1e-10)"
   ]
  },
  {
   "cell_type": "code",
   "execution_count": null,
   "metadata": {
    "execution": {
     "iopub.execute_input": "2021-06-18T16:35:14.873159Z",
     "iopub.status.busy": "2021-06-18T16:35:14.872171Z",
     "iopub.status.idle": "2021-06-18T16:35:14.874177Z",
     "shell.execute_reply": "2021-06-18T16:35:14.874946Z"
    }
   },
   "outputs": [],
   "source": [
    "def delta_exact(eps):\n",
    "    mu = np.sqrt(max_compositions)/noise_multiplier\n",
    "    return stats.norm.cdf(-eps/mu+mu/2)-np.exp(eps)*stats.norm.cdf(-eps/mu-mu/2)"
   ]
  },
  {
   "cell_type": "code",
   "execution_count": null,
   "metadata": {
    "execution": {
     "iopub.execute_input": "2021-06-11T17:58:15.083334Z",
     "iopub.status.busy": "2021-06-11T17:58:15.082381Z",
     "iopub.status.idle": "2021-06-11T17:58:15.084350Z",
     "shell.execute_reply": "2021-06-11T17:58:15.085134Z"
    }
   },
   "outputs": [],
   "source": [
    "epss = np.linspace(0.1,5,10)"
   ]
  },
  {
   "cell_type": "code",
   "execution_count": null,
   "metadata": {
    "execution": {
     "iopub.execute_input": "2021-06-11T17:58:15.162722Z",
     "iopub.status.busy": "2021-06-11T17:58:15.124814Z",
     "iopub.status.idle": "2021-06-11T17:58:19.166023Z",
     "shell.execute_reply": "2021-06-11T17:58:19.165153Z"
    }
   },
   "outputs": [],
   "source": [
    "data = pd.DataFrame(data={\n",
    "    \"eps\": epss,\n",
    "    \"delta_upper-eps_err=0.1\":[acc_01.compute_delta(e, max_compositions)[2] for e in epss],\n",
    "    \"delta_lower-eps_err=0.1\":[acc_01.compute_delta(e, max_compositions)[0] for e in epss],\n",
    "    \"delta_upper-eps_err=0.5\":[acc_05.compute_delta(e, max_compositions)[2] for e in epss],\n",
    "    \"delta_lower-eps_err=0.5\":[acc_05.compute_delta(e, max_compositions)[0] for e in epss],\n",
    "    \"delta_upper-eps_err=1.0\":[acc_1.compute_delta(e, max_compositions)[2] for e in epss],\n",
    "    \"delta_lower-eps_err=1.0\":[acc_1.compute_delta(e, max_compositions)[0] for e in epss],\n",
    "    \"delta-exact\": [delta_exact(e) for e in epss]\n",
    "})"
   ]
  },
  {
   "cell_type": "code",
   "execution_count": null,
   "metadata": {
    "execution": {
     "iopub.execute_input": "2021-06-11T17:58:19.172278Z",
     "iopub.status.busy": "2021-06-11T17:58:19.171281Z",
     "iopub.status.idle": "2021-06-11T17:58:19.301681Z",
     "shell.execute_reply": "2021-06-11T17:58:19.300283Z"
    }
   },
   "outputs": [],
   "source": [
    "fig = go.Figure()\n",
    "fig.add_trace(go.Scatter(x=epss, y=data[\"delta_upper-eps_err=0.1\"], name=\"delta_upper-eps_err=0.1\"))\n",
    "fig.add_trace(go.Scatter(x=epss, y=data[\"delta_lower-eps_err=0.1\"], name=\"delta_lower-eps_err=0.1\"))\n",
    "fig.add_trace(go.Scatter(x=epss, y=data[\"delta_upper-eps_err=0.5\"], name=\"delta_upper-eps_err=0.5\"))\n",
    "fig.add_trace(go.Scatter(x=epss, y=data[\"delta_lower-eps_err=0.5\"], name=\"delta_lower-eps_err=0.5\"))\n",
    "fig.add_trace(go.Scatter(x=epss, y=data[\"delta_upper-eps_err=1.0\"], name=\"delta_upper-eps_err=1.0\"))\n",
    "fig.add_trace(go.Scatter(x=epss, y=data[\"delta_lower-eps_err=1.0\"], name=\"delta_lower-eps_err=1.0\"))\n",
    "fig.add_trace(go.Scatter(x=epss, y=data[\"delta-exact\"], name=\"delta_exact\"))\n",
    "fig.update_yaxes(type=\"log\")\n",
    "fig.update_layout(width=800, height=500, yaxis={\"exponentformat\": 'e'})\n",
    "fig.show()"
   ]
  }
 ],
 "metadata": {
  "interpreter": {
   "hash": "05cefc20ae8d0c57225205c1e83d27b5f0958282bfde7b8cc343dc777e174c90"
  },
  "kernelspec": {
   "display_name": "Python 3.8.10 64-bit ('prv-accountant': conda)",
   "name": "python3"
  },
  "language_info": {
   "codemirror_mode": {
    "name": "ipython",
    "version": 3
   },
   "file_extension": ".py",
   "mimetype": "text/x-python",
   "name": "python",
   "nbconvert_exporter": "python",
   "pygments_lexer": "ipython3",
   "version": "3.8.12"
  }
 },
 "nbformat": 4,
 "nbformat_minor": 2
}
