{
 "cells": [
  {
   "cell_type": "code",
   "execution_count": null,
   "metadata": {},
   "outputs": [],
   "source": [
    "from privacy_accountant import RDP\n",
    "from plotly import graph_objects as go\n",
    "from privacy_accountant.fdp import FDP\n",
    "from scipy import stats, fft\n",
    "import numpy as np\n",
    "import pandas as pd"
   ]
  },
  {
   "cell_type": "code",
   "execution_count": null,
   "metadata": {},
   "outputs": [],
   "source": [
    "max_iterations = 10000\n",
    "noise_multiplier = 100.0\n",
    "sampling_probability = 1.0"
   ]
  },
  {
   "cell_type": "code",
   "execution_count": null,
   "metadata": {},
   "outputs": [],
   "source": [
    "acc_1 = FDP(noise_multiplier, sampling_probability, 1e-7, max_iterations=max_iterations, eps_error=1.0, verbose=True)\n",
    "acc_05 = FDP(noise_multiplier, sampling_probability, 1e-7, max_iterations=max_iterations, eps_error=0.5, verbose=True)\n",
    "acc_01 = FDP(noise_multiplier, sampling_probability, 1e-7, max_iterations=max_iterations, eps_error=0.1, verbose=True)"
   ]
  },
  {
   "cell_type": "code",
   "execution_count": null,
   "metadata": {},
   "outputs": [],
   "source": [
    "f_n_01 = acc_01.compute_compositions(max_iterations)\n",
    "f_n_05 = acc_05.compute_compositions(max_iterations)\n",
    "f_n_1 = acc_1.compute_compositions(max_iterations)"
   ]
  },
  {
   "cell_type": "code",
   "execution_count": null,
   "metadata": {},
   "outputs": [],
   "source": [
    "def delta_exact(eps):\n",
    "    mu = np.sqrt(max_iterations)/noise_multiplier\n",
    "    return stats.norm.cdf(-eps/mu+mu/2)-np.exp(eps)*stats.norm.cdf(-eps/mu-mu/2)"
   ]
  },
  {
   "cell_type": "code",
   "execution_count": null,
   "metadata": {},
   "outputs": [],
   "source": [
    "epss = np.linspace(0.1,5,10)"
   ]
  },
  {
   "cell_type": "code",
   "execution_count": null,
   "metadata": {},
   "outputs": [],
   "source": [
    "data = pd.DataFrame(data={\n",
    "    \"eps\": epss,\n",
    "    \"delta_upper-eps_err=0.1\":[acc_01.compute_delta_upper(f_n_01, e) for e in epss],\n",
    "    \"delta_lower-eps_err=0.1\":[acc_01.compute_delta_lower(f_n_01, e) for e in epss],\n",
    "    \"delta_upper-eps_err=0.5\":[acc_05.compute_delta_upper(f_n_05, e) for e in epss],\n",
    "    \"delta_lower-eps_err=0.5\":[acc_05.compute_delta_lower(f_n_05, e) for e in epss],\n",
    "    \"delta_upper-eps_err=1.0\":[acc_1.compute_delta_upper(f_n_1, e) for e in epss],\n",
    "    \"delta_lower-eps_err=1.0\":[acc_1.compute_delta_lower(f_n_1, e) for e in epss],\n",
    "    \"delta-exact\": [delta_exact(e) for e in epss]\n",
    "})"
   ]
  },
  {
   "cell_type": "code",
   "execution_count": null,
   "metadata": {},
   "outputs": [],
   "source": [
    "data[\"delta_upper-eps_err=0.1\"][0]"
   ]
  },
  {
   "cell_type": "code",
   "execution_count": null,
   "metadata": {},
   "outputs": [],
   "source": [
    "fig = go.Figure()\n",
    "#fig.add_trace(go.Scatter(x=[RDP(noise_multiplier, sampling_probability, d).compute_epsilon(max_iterations) for d in np.logspace(-8, -0.1, 10) ], y=np.logspace(-9, -0.1, 10) , name=\"delta_upper_rdp\"))\n",
    "fig.add_trace(go.Scatter(x=epss, y=data[\"delta_upper-eps_err=0.1\"], name=\"delta_upper-eps_err=0.1\"))\n",
    "fig.add_trace(go.Scatter(x=epss, y=data[\"delta_lower-eps_err=0.1\"], name=\"delta_lower-eps_err=0.1\"))\n",
    "fig.add_trace(go.Scatter(x=epss, y=data[\"delta_upper-eps_err=0.5\"], name=\"delta_upper-eps_err=0.5\"))\n",
    "fig.add_trace(go.Scatter(x=epss, y=data[\"delta_lower-eps_err=0.5\"], name=\"delta_lower-eps_err=0.5\"))\n",
    "fig.add_trace(go.Scatter(x=epss, y=data[\"delta_upper-eps_err=1.0\"], name=\"delta_upper-eps_err=1.0\"))\n",
    "fig.add_trace(go.Scatter(x=epss, y=data[\"delta_lower-eps_err=1.0\"], name=\"delta_lower-eps_err=1.0\"))\n",
    "fig.add_trace(go.Scatter(x=epss, y=data[\"delta-exact\"], name=\"delta_exact\"))\n",
    "fig.update_yaxes(type=\"log\")\n",
    "fig.update_layout(width=800, height=500, yaxis={\"exponentformat\": 'e'})\n",
    "fig.show()"
   ]
  },
  {
   "cell_type": "code",
   "execution_count": null,
   "metadata": {},
   "outputs": [],
   "source": [
    "data.to_csv(\"exact.dat\", sep=\" \")"
   ]
  },
  {
   "cell_type": "code",
   "execution_count": null,
   "metadata": {},
   "outputs": [],
   "source": []
  }
 ],
 "metadata": {
  "kernelspec": {
   "display_name": "Python 3.7.10 64-bit ('dp-accountant': conda)",
   "name": "python3710jvsc74a57bd0eb5b2118aecc7a521ce2f525e7ba252822d4aa3052532d43ff6b3712d0d36a88"
  },
  "language_info": {
   "codemirror_mode": {
    "name": "ipython",
    "version": 3
   },
   "file_extension": ".py",
   "mimetype": "text/x-python",
   "name": "python",
   "nbconvert_exporter": "python",
   "pygments_lexer": "ipython3",
   "version": "3.7.10"
  }
 },
 "nbformat": 4,
 "nbformat_minor": 2
}
