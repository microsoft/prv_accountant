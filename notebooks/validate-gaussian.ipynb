{
 "cells": [
  {
   "cell_type": "code",
   "execution_count": null,
   "metadata": {
    "execution": {
     "iopub.execute_input": "2021-06-11T17:58:14.524769Z",
     "iopub.status.busy": "2021-06-11T17:58:14.523601Z",
     "iopub.status.idle": "2021-06-11T17:58:14.924890Z",
     "shell.execute_reply": "2021-06-11T17:58:14.923872Z"
    }
   },
   "outputs": [],
   "source": [
    "from plotly import graph_objects as go\n",
    "from prv_accountant import Accountant\n",
    "from scipy import stats\n",
    "import numpy as np\n",
    "import pandas as pd"
   ]
  },
  {
   "cell_type": "code",
   "execution_count": null,
   "metadata": {
    "execution": {
     "iopub.execute_input": "2021-06-11T17:58:14.929286Z",
     "iopub.status.busy": "2021-06-11T17:58:14.928276Z",
     "iopub.status.idle": "2021-06-11T17:58:14.930323Z",
     "shell.execute_reply": "2021-06-11T17:58:14.931111Z"
    }
   },
   "outputs": [],
   "source": [
    "max_iterations = 10000\n",
    "noise_multiplier = 100.0\n",
    "sampling_probability = 1.0"
   ]
  },
  {
   "cell_type": "code",
   "execution_count": null,
   "metadata": {
    "execution": {
     "iopub.execute_input": "2021-06-11T17:58:14.936228Z",
     "iopub.status.busy": "2021-06-11T17:58:14.935243Z",
     "iopub.status.idle": "2021-06-11T17:58:15.059231Z",
     "shell.execute_reply": "2021-06-11T17:58:15.060035Z"
    }
   },
   "outputs": [],
   "source": [
    "acc_1 = Accountant(noise_multiplier, sampling_probability, 1e-7, max_iterations=max_iterations, eps_error=1.0)\n",
    "acc_05 = Accountant(noise_multiplier, sampling_probability, 1e-7, max_iterations=max_iterations, eps_error=0.5)\n",
    "acc_01 = Accountant(noise_multiplier, sampling_probability, 1e-7, max_iterations=max_iterations, eps_error=0.1)"
   ]
  },
  {
   "cell_type": "code",
   "execution_count": null,
   "metadata": {
    "execution": {
     "iopub.execute_input": "2021-06-11T17:58:15.064415Z",
     "iopub.status.busy": "2021-06-11T17:58:15.063446Z",
     "iopub.status.idle": "2021-06-11T17:58:15.072501Z",
     "shell.execute_reply": "2021-06-11T17:58:15.071702Z"
    }
   },
   "outputs": [],
   "source": [
    "f_n_01 = acc_01.compute_compositions(max_iterations)\n",
    "f_n_05 = acc_05.compute_compositions(max_iterations)\n",
    "f_n_1 = acc_1.compute_compositions(max_iterations)"
   ]
  },
  {
   "cell_type": "code",
   "execution_count": null,
   "metadata": {
    "execution": {
     "iopub.execute_input": "2021-06-11T17:58:15.077137Z",
     "iopub.status.busy": "2021-06-11T17:58:15.076078Z",
     "iopub.status.idle": "2021-06-11T17:58:15.078866Z",
     "shell.execute_reply": "2021-06-11T17:58:15.078077Z"
    }
   },
   "outputs": [],
   "source": [
    "def delta_exact(eps):\n",
    "    mu = np.sqrt(max_iterations)/noise_multiplier\n",
    "    return stats.norm.cdf(-eps/mu+mu/2)-np.exp(eps)*stats.norm.cdf(-eps/mu-mu/2)"
   ]
  },
  {
   "cell_type": "code",
   "execution_count": 1,
   "metadata": {
    "execution": {
     "iopub.execute_input": "2021-06-11T17:58:15.083334Z",
     "iopub.status.busy": "2021-06-11T17:58:15.082381Z",
     "iopub.status.idle": "2021-06-11T17:58:15.084350Z",
     "shell.execute_reply": "2021-06-11T17:58:15.085134Z"
    }
   },
   "outputs": [
    {
     "ename": "NameError",
     "evalue": "name 'np' is not defined",
     "output_type": "error",
     "traceback": [
      "\u001b[0;31m---------------------------------------------------------------------------\u001b[0m",
      "\u001b[0;31mNameError\u001b[0m                                 Traceback (most recent call last)",
      "\u001b[0;32m<ipython-input-1-07eaad716881>\u001b[0m in \u001b[0;36m<module>\u001b[0;34m\u001b[0m\n\u001b[0;32m----> 1\u001b[0;31m \u001b[0mepss\u001b[0m \u001b[0;34m=\u001b[0m \u001b[0mnp\u001b[0m\u001b[0;34m.\u001b[0m\u001b[0mlinspace\u001b[0m\u001b[0;34m(\u001b[0m\u001b[0;36m0.1\u001b[0m\u001b[0;34m,\u001b[0m\u001b[0;36m5\u001b[0m\u001b[0;34m,\u001b[0m\u001b[0;36m10\u001b[0m\u001b[0;34m)\u001b[0m\u001b[0;34m\u001b[0m\u001b[0;34m\u001b[0m\u001b[0m\n\u001b[0m\u001b[1;32m      2\u001b[0m \u001b[0my\u001b[0m\u001b[0;34m=\u001b[0m\u001b[0mx\u001b[0m\u001b[0;34m\u001b[0m\u001b[0;34m\u001b[0m\u001b[0m\n",
      "\u001b[0;31mNameError\u001b[0m: name 'np' is not defined"
     ]
    }
   ],
   "source": [
    "epss = np.linspace(0.1,5,10)\n",
    "y=x"
   ]
  },
  {
   "cell_type": "code",
   "execution_count": null,
   "metadata": {
    "execution": {
     "iopub.execute_input": "2021-06-11T17:58:15.162722Z",
     "iopub.status.busy": "2021-06-11T17:58:15.124814Z",
     "iopub.status.idle": "2021-06-11T17:58:19.166023Z",
     "shell.execute_reply": "2021-06-11T17:58:19.165153Z"
    }
   },
   "outputs": [],
   "source": [
    "data = pd.DataFrame(data={\n",
    "    \"eps\": epss,\n",
    "    \"delta_upper-eps_err=0.1\":[acc_01.compute_delta_upper(f_n_01, e) for e in epss],\n",
    "    \"delta_lower-eps_err=0.1\":[acc_01.compute_delta_lower(f_n_01, e) for e in epss],\n",
    "    \"delta_upper-eps_err=0.5\":[acc_05.compute_delta_upper(f_n_05, e) for e in epss],\n",
    "    \"delta_lower-eps_err=0.5\":[acc_05.compute_delta_lower(f_n_05, e) for e in epss],\n",
    "    \"delta_upper-eps_err=1.0\":[acc_1.compute_delta_upper(f_n_1, e) for e in epss],\n",
    "    \"delta_lower-eps_err=1.0\":[acc_1.compute_delta_lower(f_n_1, e) for e in epss],\n",
    "    \"delta-exact\": [delta_exact(e) for e in epss]\n",
    "})"
   ]
  },
  {
   "cell_type": "code",
   "execution_count": null,
   "metadata": {
    "execution": {
     "iopub.execute_input": "2021-06-11T17:58:19.172278Z",
     "iopub.status.busy": "2021-06-11T17:58:19.171281Z",
     "iopub.status.idle": "2021-06-11T17:58:19.301681Z",
     "shell.execute_reply": "2021-06-11T17:58:19.300283Z"
    }
   },
   "outputs": [],
   "source": [
    "fig = go.Figure()\n",
    "fig.add_trace(go.Scatter(x=epss, y=data[\"delta_upper-eps_err=0.1\"], name=\"delta_upper-eps_err=0.1\"))\n",
    "fig.add_trace(go.Scatter(x=epss, y=data[\"delta_lower-eps_err=0.1\"], name=\"delta_lower-eps_err=0.1\"))\n",
    "fig.add_trace(go.Scatter(x=epss, y=data[\"delta_upper-eps_err=0.5\"], name=\"delta_upper-eps_err=0.5\"))\n",
    "fig.add_trace(go.Scatter(x=epss, y=data[\"delta_lower-eps_err=0.5\"], name=\"delta_lower-eps_err=0.5\"))\n",
    "fig.add_trace(go.Scatter(x=epss, y=data[\"delta_upper-eps_err=1.0\"], name=\"delta_upper-eps_err=1.0\"))\n",
    "fig.add_trace(go.Scatter(x=epss, y=data[\"delta_lower-eps_err=1.0\"], name=\"delta_lower-eps_err=1.0\"))\n",
    "fig.add_trace(go.Scatter(x=epss, y=data[\"delta-exact\"], name=\"delta_exact\"))\n",
    "fig.update_yaxes(type=\"log\")\n",
    "fig.update_layout(width=800, height=500, yaxis={\"exponentformat\": 'e'})\n",
    "fig.show()"
   ]
  }
 ],
 "metadata": {
  "interpreter": {
   "hash": "05cefc20ae8d0c57225205c1e83d27b5f0958282bfde7b8cc343dc777e174c90"
  },
  "kernelspec": {
   "display_name": "Python 3.8.10 64-bit ('prv-accountant': conda)",
   "name": "python3"
  },
  "language_info": {
   "codemirror_mode": {
    "name": "ipython",
    "version": 3
   },
   "file_extension": ".py",
   "mimetype": "text/x-python",
   "name": "python",
   "nbconvert_exporter": "python",
   "pygments_lexer": "ipython3",
   "version": "3.8.10"
  }
 },
 "nbformat": 4,
 "nbformat_minor": 2
}