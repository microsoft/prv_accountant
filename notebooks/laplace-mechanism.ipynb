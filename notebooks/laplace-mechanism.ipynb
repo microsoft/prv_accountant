{
 "cells": [
  {
   "cell_type": "markdown",
   "metadata": {},
   "source": [
    "# Defining A Custom Privacy Mechanisms\n",
    "\n",
    "In this notebook we demonstrate how to extend the accountant to support custom privacy mechanisms.\n",
    "For the sake of the tutorial we keep things simple by using the well known Laplace mechanism.\n",
    "\n",
    "Assume we have a privacy mechanisms with a privacy curve $\\delta(P || Q )$ where $P = \\text{Lap}(\\mu,1) $ and $ Q = \\text{Lap}(0,1)$.\n",
    "By Proposition B.2 in [[1](https://arxiv.org/pdf/2106.02848.pdf)], the privacy random variables $X$ and $Y$ are given by $ X = | Z | - | Z - \\mu | $ and $ Y = | Z - \\mu | - | Z | $ where $ Z \\sim \\text{Lap}(0,1)$.\n",
    "\n",
    "More concretely, the CDF of $Y$ is given by\n",
    "$$\n",
    "F_Y(t) =\n",
    "  \\begin{cases}\n",
    "    1                                                 & \\quad \\text{if } t > \\mu \\\\\n",
    "    \\frac{1}{2} \\exp \\left ( \\frac{t-\\mu}{2} \\right ) & \\quad \\text{if } - \\mu \\leq t \\leq \\mu \\\\\n",
    "    0                                                 & \\quad \\text{otherwise}\n",
    "  \\end{cases} \\; .\n",
    "$$"
   ]
  },
  {
   "cell_type": "markdown",
   "metadata": {},
   "source": [
    "## Implementing the Privacy Random Variable\n",
    "\n",
    "Given the derivation of $F_X$, we can now implement the corresponding `LaplaceMechanism` class which is a subclass of `PrivacyRandomVariable`.\n",
    "The interface is lightweight and only the function `cdf` for the CDF is required to be overridden.\n",
    "\n",
    "Optionally, an implementation for the Renyi divergences can be provided (see Definition 3 in [[2](https://ieeexplore.ieee.org/abstract/document/8049725)]).\n",
    "This allows to automatically compute the required domain size.\n",
    "If this is not provided the `eps_max` argument in the accountant needs to be set.\n"
   ]
  },
  {
   "cell_type": "code",
   "execution_count": null,
   "metadata": {},
   "outputs": [],
   "source": [
    "import numpy as np\n",
    "from prv_accountant import PrivacyRandomVariable\n",
    "\n",
    "class LaplaceMechanism(PrivacyRandomVariable):\n",
    "    def __init__(self, mu: float) -> None:\n",
    "        self.mu = mu\n",
    "        assert self.mu > 0\n",
    "\n",
    "    def cdf(self, t):\n",
    "        return np.where( t >= self.mu,\n",
    "            1,\n",
    "            np.where(np.logical_and(-self.mu < t, t < self.mu),\n",
    "                1/2*np.exp(1/2*(t-self.mu)),\n",
    "                0\n",
    "            )\n",
    "        )\n",
    "\n",
    "    def rdp(self, alpha):\n",
    "        return 1/(alpha-1) * np.log(\n",
    "            alpha/(2*alpha-1) * np.exp((alpha-1)*self.mu) + (alpha-1)/(2*alpha-1) * np.exp(-alpha*self.mu)\n",
    "        )"
   ]
  },
  {
   "cell_type": "markdown",
   "metadata": {},
   "source": [
    "# Using the PRV class for the Laplace mechanism with the PRV accountant\n",
    "From here on, we can use the PRV class just like any other provided PRVs such as the `PoissonSubsampledGaussianMechanism`."
   ]
  },
  {
   "cell_type": "code",
   "execution_count": null,
   "metadata": {},
   "outputs": [],
   "source": [
    "from prv_accountant import PRVAccountant\n",
    "accountant = PRVAccountant(prvs=LaplaceMechanism(0.01), eps_error=0.1, delta_error=1e-10, max_self_compositions=10_000)\n",
    "accountant.compute_epsilon(delta=1e-6, num_self_compositions=1_000)"
   ]
  },
  {
   "cell_type": "markdown",
   "metadata": {},
   "source": [
    "## References\n",
    "\n",
    "[1] Sivakanth Gopi, Yin Tat Lee, Lukas Wutschitz. Numerical Composition of Differential Privacy. 35th Conference on Neural Information Processing Systems (NeurIPS 2021), Sydney, Australia.\n",
    "\n",
    "[2] Ilya Mironov. Renyi Differential Privacy. 2017. IEEE 30th Computer Security Foundations Symposium"
   ]
  }
 ],
 "metadata": {
  "interpreter": {
   "hash": "ba40320e8ee13f35e036b170c68b5dd972f5ed18af4d576d50b5090248a5b0da"
  },
  "kernelspec": {
   "display_name": "Python 3.8.12 64-bit ('prv_accountant': conda)",
   "name": "python3"
  },
  "language_info": {
   "codemirror_mode": {
    "name": "ipython",
    "version": 3
   },
   "file_extension": ".py",
   "mimetype": "text/x-python",
   "name": "python",
   "nbconvert_exporter": "python",
   "pygments_lexer": "ipython3",
   "version": "3.8.12"
  }
 },
 "nbformat": 4,
 "nbformat_minor": 2
}
