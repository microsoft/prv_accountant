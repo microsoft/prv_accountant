{
 "cells": [
  {
   "cell_type": "markdown",
   "metadata": {},
   "source": [
    "# Defining A Custom Privacy Mechanisms\n",
    "\n",
    "In this notebook we demonstrate how to extend the accountant to support custom privacy mechanisms.\n",
    "For the sake of the tutorial we keep things simple by using the well known Laplace mechanism.\n",
    "\n",
    "Assume we have a privacy mechanisms with $\\delta(\\textnormal{Lap}(\\mu,1) || \\textnormal{Lap}(0,1))$\n",
    "By Theorem 3.2 in [[1](https://arxiv.org/pdf/2106.02848.pdf)], the privacy random variables $X$ and $Y$ are given by\n",
    "$$\n",
    "X = \\log \\left (  \\right ) \\\\\n",
    "Y = \\log\n",
    "$$"
   ]
  },
  {
   "cell_type": "code",
   "execution_count": null,
   "metadata": {},
   "outputs": [],
   "source": [
    "import numpy as np\n",
    "from prv_accountant import PrivacyRandomVariable, PRVAccountantHomogeneous"
   ]
  },
  {
   "cell_type": "code",
   "execution_count": null,
   "metadata": {},
   "outputs": [],
   "source": [
    "class LaplaceMechanism(PrivacyRandomVariable):\n",
    "    def __init__(self, mu: float) -> None:\n",
    "        self.mu = mu\n",
    "        assert self.mu > 0\n",
    "\n",
    "    def cdf(self, t):\n",
    "        return np.where(t < 0 and t + self.mu > 0,\n",
    "            1 + 1/4*np.exp(-t-self.mu)(-3+np.exp(2*t)-2*t-2*self.mu),\n",
    "            np.where(t>0,\n",
    "                1 - 1/2*np.exp(-t-self.mu)*(1+self.mu),\n",
    "                1/2*np.exp(t)*np.cosh(self.mu)\n",
    "            )\n",
    "        )\n",
    "\n",
    "    def rdp(self, alpha):\n",
    "        return 1/(alpha-1) * np.log(\n",
    "            alpha/(2*alpha-1) * np.exp((alpha-1)*self.mu) + (alpha-1)/(2*alpha-1) * np.exp(-alpha*self.mu)\n",
    "        )\n",
    "\n"
   ]
  },
  {
   "cell_type": "code",
   "execution_count": null,
   "metadata": {},
   "outputs": [],
   "source": [
    "accountant = PRVAccountantHomogeneous(prv=LaplaceMechanism(0.1), )"
   ]
  },
  {
   "cell_type": "code",
   "execution_count": null,
   "metadata": {},
   "outputs": [],
   "source": [
    "## References\n",
    "\n",
    "[1]"
   ]
  },
  {
   "cell_type": "code",
   "execution_count": null,
   "metadata": {},
   "outputs": [],
   "source": []
  }
 ],
 "metadata": {
  "interpreter": {
   "hash": "ba40320e8ee13f35e036b170c68b5dd972f5ed18af4d576d50b5090248a5b0da"
  },
  "kernelspec": {
   "display_name": "Python 3.8.12 64-bit ('prv_accountant': conda)",
   "name": "python3"
  },
  "language_info": {
   "codemirror_mode": {
    "name": "ipython",
    "version": 3
   },
   "file_extension": ".py",
   "mimetype": "text/x-python",
   "name": "python",
   "nbconvert_exporter": "python",
   "pygments_lexer": "ipython3",
   "version": "3.8.12"
  }
 },
 "nbformat": 4,
 "nbformat_minor": 2
}
